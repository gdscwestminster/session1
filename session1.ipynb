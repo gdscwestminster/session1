{
 "cells": [
  {
   "cell_type": "markdown",
   "metadata": {
    "tags": []
   },
   "source": [
    "# GDSC - Session 1 \n",
    "## Introduction to Python"
   ]
  },
  {
   "cell_type": "markdown",
   "metadata": {},
   "source": [
    "### Game Description\n",
    "\n",
    "#### A Player vs Computer Rock-Paper-Scissors game.\n",
    "\n",
    "Players choose an option.\n",
    "\n",
    "Computer's option is generated randomly.\n",
    "\n",
    "Compare and decide the winner.\n",
    "\n",
    "Score is updated with each turn.\n"
   ]
  },
  {
   "cell_type": "code",
   "execution_count": 1,
   "metadata": {},
   "outputs": [],
   "source": [
    "#imports \n",
    "import random # to choose a random element from a given collection\n",
    "import time # to pause the program for a while for suspense ! "
   ]
  },
  {
   "cell_type": "markdown",
   "metadata": {
    "tags": []
   },
   "source": [
    "### Python Examples"
   ]
  },
  {
   "cell_type": "markdown",
   "metadata": {},
   "source": [
    "#### Conditions"
   ]
  },
  {
   "cell_type": "code",
   "execution_count": 2,
   "metadata": {
    "tags": [
     "hide-cell"
    ]
   },
   "outputs": [
    {
     "name": "stdout",
     "output_type": "stream",
     "text": [
      "a<b\n"
     ]
    }
   ],
   "source": [
    "a = 1\n",
    "b = 2\n",
    "\n",
    "if a>b:\n",
    "    print(\"a>b\")\n",
    "elif a==b:\n",
    "    print(\"a==b\")\n",
    "else:\n",
    "    print(\"a<b\")"
   ]
  },
  {
   "cell_type": "markdown",
   "metadata": {},
   "source": [
    "#### Iterations"
   ]
  },
  {
   "cell_type": "code",
   "execution_count": 3,
   "metadata": {},
   "outputs": [
    {
     "name": "stdout",
     "output_type": "stream",
     "text": [
      "Turn 1\n",
      "Turn 2\n",
      "Turn 3\n",
      "Turn 4\n",
      "Turn 5\n",
      "Turn 6\n",
      "Turn 7\n",
      "Turn 8\n",
      "Turn 9\n",
      "Turn 10\n"
     ]
    }
   ],
   "source": [
    "i = 0\n",
    "\n",
    "while i<10:\n",
    "    print(\"Turn\",i+1)\n",
    "    i+=1"
   ]
  },
  {
   "cell_type": "code",
   "execution_count": 4,
   "metadata": {},
   "outputs": [
    {
     "name": "stdout",
     "output_type": "stream",
     "text": [
      "Turn 1\n",
      "Turn 2\n",
      "Turn 3\n",
      "Turn 4\n",
      "Turn 5\n",
      "Turn 6\n",
      "Turn 7\n",
      "Turn 8\n",
      "Turn 9\n",
      "Turn 10\n"
     ]
    }
   ],
   "source": [
    "for i in range(10):\n",
    "    print(\"Turn\",i+1)"
   ]
  },
  {
   "cell_type": "code",
   "execution_count": 15,
   "metadata": {},
   "outputs": [
    {
     "name": "stdout",
     "output_type": "stream",
     "text": [
      "Turn 1\n",
      "Exiting loop\n"
     ]
    }
   ],
   "source": [
    "# Have an infinite loop and break out of it if a condition is satisfied\n",
    "i = 1\n",
    "while True:\n",
    "    if i==2:\n",
    "        print(\"Exiting loop\")\n",
    "        break\n",
    "    print(\"Turn\",i)\n",
    "    i+=1"
   ]
  },
  {
   "cell_type": "markdown",
   "metadata": {},
   "source": [
    "Ensure you **update the variable in the condition** or **add break**s to exit the loop, when using **while**."
   ]
  },
  {
   "cell_type": "markdown",
   "metadata": {},
   "source": [
    "#### list"
   ]
  },
  {
   "cell_type": "code",
   "execution_count": 6,
   "metadata": {},
   "outputs": [],
   "source": [
    "fruits = [\"Apple\", \"Banana\", \"Pineapple\"]"
   ]
  },
  {
   "cell_type": "code",
   "execution_count": 7,
   "metadata": {},
   "outputs": [
    {
     "data": {
      "text/plain": [
       "'Banana'"
      ]
     },
     "execution_count": 7,
     "metadata": {},
     "output_type": "execute_result"
    }
   ],
   "source": [
    "fruits[1]"
   ]
  },
  {
   "cell_type": "code",
   "execution_count": 8,
   "metadata": {},
   "outputs": [
    {
     "data": {
      "text/plain": [
       "True"
      ]
     },
     "execution_count": 8,
     "metadata": {},
     "output_type": "execute_result"
    }
   ],
   "source": [
    "\"Apple\" in fruits"
   ]
  },
  {
   "cell_type": "markdown",
   "metadata": {},
   "source": [
    "#### User Input"
   ]
  },
  {
   "cell_type": "code",
   "execution_count": 11,
   "metadata": {},
   "outputs": [
    {
     "name": "stdin",
     "output_type": "stream",
     "text": [
      "Enter your Name:  GDSC Member\n"
     ]
    },
    {
     "name": "stdout",
     "output_type": "stream",
     "text": [
      "\n",
      "Hi GDSC Member\n"
     ]
    }
   ],
   "source": [
    "user_input = input(\"Enter your Name: \")\n",
    "\n",
    "print(\"\\nHi\", user_input) #\\n to move to next line"
   ]
  },
  {
   "cell_type": "code",
   "execution_count": 12,
   "metadata": {},
   "outputs": [
    {
     "data": {
      "text/plain": [
       "str"
      ]
     },
     "execution_count": 12,
     "metadata": {},
     "output_type": "execute_result"
    }
   ],
   "source": [
    "type(user_input)"
   ]
  },
  {
   "cell_type": "markdown",
   "metadata": {},
   "source": [
    "The input function returns type string. If you need to get numerical values convert them to appropriate types."
   ]
  },
  {
   "cell_type": "code",
   "execution_count": 13,
   "metadata": {},
   "outputs": [
    {
     "name": "stdin",
     "output_type": "stream",
     "text": [
      "Enter Integer 1\n"
     ]
    },
    {
     "name": "stdout",
     "output_type": "stream",
     "text": [
      "1 <class 'int'>\n",
      "\n"
     ]
    },
    {
     "name": "stdin",
     "output_type": "stream",
     "text": [
      "Enter Float 1.12\n"
     ]
    },
    {
     "name": "stdout",
     "output_type": "stream",
     "text": [
      "1.12 <class 'float'>\n"
     ]
    }
   ],
   "source": [
    "user_input = int(input(\"Enter Integer\"))\n",
    "print(user_input, type(user_input))\n",
    "print()\n",
    "user_input = float(input(\"Enter Float\"))\n",
    "print(user_input, type(user_input))"
   ]
  },
  {
   "cell_type": "markdown",
   "metadata": {},
   "source": [
    "Entering invalid characters would produce errors and terminate your program (Make sure to handle these errors to avoid crashes)."
   ]
  },
  {
   "cell_type": "markdown",
   "metadata": {},
   "source": [
    "### Game Turn\n",
    "\n",
    "Lets start by coding each game turn.\n",
    "\n",
    "A set of decisions is provided to guide you.\n",
    "\n",
    "Using the library random, try to find a way to generate the computer's choice randomly.\n",
    "\n",
    "```c\n",
    "INPUT user_option\n",
    "\n",
    "GENERATE computer_option\n",
    "\n",
    "IF (user_option == \"rock\")\n",
    "THEN\n",
    "    IF (computer_option == \"rock\")\n",
    "    THEN\n",
    "        DISPAY \"Draw\"\n",
    "    ELSE IF (computer_option == \"scissors\")\n",
    "    THEN\n",
    "        DISPAY \"You Win\"\n",
    "    ELSE\n",
    "        DISPLAY \"Computer Wins\"\n",
    "\n",
    "ELSE IF (user_option == \"paper\")\n",
    "THEN\n",
    "    IF (computer_option == \"paper\")\n",
    "    THEN\n",
    "        DISPAY \"Draw\"\n",
    "    ELSE IF (computer_option == \"rock\")\n",
    "    THEN\n",
    "        DISPAY \"You Win\"\n",
    "    ELSE\n",
    "        DISPLAY \"Computer Wins\"\n",
    "\n",
    "ELSE\n",
    "    IF (computer_option == \"scissors\")\n",
    "    THEN\n",
    "        DISPAY \"Draw\"\n",
    "    ELSE IF (computer_option == \"paper\")\n",
    "    THEN\n",
    "        DISPAY \"You Win\"\n",
    "    ELSE\n",
    "        DISPLAY \"Computer Wins\"\n",
    "```"
   ]
  },
  {
   "cell_type": "code",
   "execution_count": null,
   "metadata": {},
   "outputs": [],
   "source": [
    "user_option = input(\"Enter Option: \").lower() #The user entered value is converted to lowercase as our conditions contain lowercases\n",
    "\n",
    "computer_option = random.choice([\"rock\", \"paper\", \"scissors\"]) # A random option is chosen from the given list\n",
    "\n",
    "# display then user's option and compuer generated option\n",
    "print()\n",
    "print(user_option, \"vs\", computer_option)\n",
    "print()\n",
    "\n",
    "# Display the appropriate result by comparing the user and computer options.\n",
    "\n",
    "if user_option == \"rock\":\n",
    "    if computer_option == \"rock\":\n",
    "        print(\"Draw\")\n",
    "    elif computer_option == \"scissors\":\n",
    "        print(\"You Win\")\n",
    "    else:\n",
    "        print(\"Computer Wins\")\n",
    "\n",
    "elif user_option == \"paper\":\n",
    "    if computer_option == \"paper\":\n",
    "        print(\"Draw\")\n",
    "    elif computer_option == \"rock\":\n",
    "        print(\"You Win\")\n",
    "    else: \n",
    "        print(\"Computer Wins\")\n",
    "\n",
    "else:\n",
    "    if computer_option == \"scissors\":\n",
    "        print(\"You Win\")\n",
    "    elif computer_option == \"paper\":\n",
    "        print(\"You Win\")\n",
    "    else: \n",
    "        print(\"Computer Wins\")"
   ]
  },
  {
   "cell_type": "markdown",
   "metadata": {},
   "source": [
    "How flawless do you think the above code is?\n",
    "\n",
    "Can you identify any instnaces where the code can not function appropriately?\n",
    "\n",
    "--------------------------"
   ]
  },
  {
   "cell_type": "markdown",
   "metadata": {},
   "source": [
    "The above code works perfectly where all user inputs are valid. In cases where the user enters an invalid option such as: 1 or table, the code will still function.\n",
    "\n",
    "Try it out by entering the names of random objects other than rock, paper and scissors with the above code :)"
   ]
  },
  {
   "cell_type": "markdown",
   "metadata": {},
   "source": [
    "### Validations\n",
    "\n",
    "There are many ways to ensure the user enters valid inputs.\n",
    "\n",
    "An approach is taken below by comparing the user's input with the valid options.\n",
    "\n",
    "The options are stored in a list.\n",
    "\n",
    "We'll be using an infinite to loop and prompt the user for the input and break out of the loop when the user enters a valid option.\n",
    "\n",
    "<b>Explore other ways how you can ensure the user inputs are valid</b>\n"
   ]
  },
  {
   "cell_type": "code",
   "execution_count": null,
   "metadata": {},
   "outputs": [],
   "source": [
    "options = [\"rock\", \"paper\", \"scissors\"] # A list of valid options\n",
    "\n",
    "# Display the valid options\n",
    "print(\"Enter selection:\", end=\" \")\n",
    "print(*options, sep=\", \")\n",
    "\n",
    "# Prompt user to enter input option until a valid option is entered\n",
    "while True:\n",
    "    user_option = input(\"Enter Option: \").lower()\n",
    "    \n",
    "        # Check if the user user entered a valid option\n",
    "        if user_option in options:\n",
    "            break #out of the loop if user entered a valid option\n",
    "        else:\n",
    "            print(\"Invalid Entry\") # Display Error Message if invalid option is entered \n",
    "        \n",
    "computer_option = random.choice(options) # use the list containig valid options without typing them in again :)\n",
    "\n",
    "print()\n",
    "print(user_option, \"vs\", computer_option)\n",
    "print()\n",
    "\n",
    "# Note that we have reduced the amount of conditions by declaring Draw when user's input is the same as the computer's\n",
    "if user_option == computer_option:\n",
    "    print(\"Draw\")\n",
    "\n",
    "elif user_option == \"rock\":\n",
    "    if computer_option == \"scissors\":\n",
    "        print(\"You Win\")\n",
    "    else:\n",
    "        print(\"Computer Wins\")\n",
    "\n",
    "elif user_option == \"paper\":\n",
    "    if computer_option == \"rock\":\n",
    "        print(\"You Win\")\n",
    "    else: \n",
    "        print(\"Computer Wins\")\n",
    "\n",
    "else: \n",
    "    if computer_option == \"paper\":\n",
    "        print(\"You Win\")\n",
    "    else: \n",
    "        print(\"Computer Wins\")"
   ]
  },
  {
   "cell_type": "markdown",
   "metadata": {
    "tags": []
   },
   "source": [
    "### Game Loop\n",
    "\n",
    "We implement an infinite loop (similar to when we validated the user input) and break out of it when the user selects the option to exit.\n",
    "\n",
    "We've added features to keep track of score and win probablity"
   ]
  },
  {
   "cell_type": "code",
   "execution_count": null,
   "metadata": {},
   "outputs": [],
   "source": [
    "options = [\"rock\", \"paper\", \"scissors\"]\n",
    "\n",
    "#initialize score and the number of turns\n",
    "score = 0\n",
    "turns = 0\n",
    "\n",
    "# An infinite loop to continue the game\n",
    "while True:\n",
    "    # display score and win probability\n",
    "    print(f\"Score: {score}\")\n",
    "    if turns>0: # why?\n",
    "        print(f\"Win Prob: {score/turns:.2f}\")\n",
    "    print()\n",
    "    \n",
    "    # display valid options\n",
    "    # Note we have added the exit option\n",
    "    print(\"Enter selection:\", end=\" \")\n",
    "    print(*options, \"exit\", sep=\", \")\n",
    "    \n",
    "    while True:\n",
    "        user_option = input(\"Enter Option: \").lower()\n",
    "        # Note we have modified to allow exit as a valid option\n",
    "        if user_option in options or user_option==\"exit\":\n",
    "            break\n",
    "        else:\n",
    "            print(\"Invalid Entry\")\n",
    "            \n",
    "    print()\n",
    "    \n",
    "    if user_option==\"exit\":\n",
    "        print(\"Have a nice day\")\n",
    "        print(\"\\n----------------------------------------------\")\n",
    "        print(\"\\n----------------------------------------------\\n\")\n",
    "        break\n",
    "\n",
    "    computer_option = random.choice(options)\n",
    "    \n",
    "    print(user_option, \"vs\", computer_option)\n",
    "    print()\n",
    "    \n",
    "    # We update the scores when the user wins\n",
    "    \n",
    "    if user_option == computer_option:\n",
    "        print(\"Draw\")\n",
    "\n",
    "    elif user_option == \"rock\":\n",
    "        if computer_option == \"scissors\":\n",
    "            print(\"You Win\")\n",
    "            score+=1\n",
    "        else:\n",
    "            print(\"Computer Wins\")\n",
    "\n",
    "    elif user_option == \"paper\":\n",
    "        if computer_option == \"rock\":\n",
    "            print(\"You Win\")\n",
    "            score+=1\n",
    "        else:\n",
    "            print(\"Computer Wins\")\n",
    "\n",
    "    else:\n",
    "        if computer_option == \"paper\":\n",
    "            print(\"You Win\")\n",
    "            score+=1\n",
    "        else:\n",
    "            print(\"Computer Wins\")\n",
    "            \n",
    "    # update the number of turns at the end of each turn\n",
    "    turns += 1\n",
    "    print(\"\\n----------------------------------------------\\n\")"
   ]
  },
  {
   "cell_type": "markdown",
   "metadata": {},
   "source": [
    "Let's pause the app between user and computer options to build suspense."
   ]
  },
  {
   "cell_type": "markdown",
   "metadata": {},
   "source": [
    "### The Game"
   ]
  },
  {
   "cell_type": "code",
   "execution_count": null,
   "metadata": {},
   "outputs": [],
   "source": [
    "options = [\"rock\", \"paper\", \"scissors\"]\n",
    "score = 0\n",
    "turns = 0\n",
    "\n",
    "while True:\n",
    "    \n",
    "    print(f\"Score: {sum(scores)}\")\n",
    "    print()\n",
    "    \n",
    "    print(\"Enter selection:\", end=\" \")\n",
    "    print(*options, \"exit\", sep=\", \")\n",
    "    \n",
    "    while True:\n",
    "        user_option = input(\"Enter Option: \").lower()\n",
    "        if user_option in options or user_option==\"exit\":\n",
    "            break\n",
    "        else:\n",
    "            print(\"Invalid Entry\")\n",
    "\n",
    "    print()\n",
    "    \n",
    "    if user_option==\"exit\":\n",
    "        print(\"Have a nice day\")\n",
    "        print(\"\\n----------------------------------------------\")\n",
    "        print(\"\\n----------------------------------------------\\n\")\n",
    "        break\n",
    "        \n",
    "    \n",
    "    # pause between user and computer option to build suspense :)\n",
    "    print(user_option, end=\" \")\n",
    "    time.sleep(1)\n",
    "    print(\"vs\", end=\" \")\n",
    "    time.sleep(1)\n",
    "    print(computer_option)\n",
    "    print()\n",
    "\n",
    "    print(user_option, \"vs\", computer_option)\n",
    "    print()\n",
    "\n",
    "    if user_option == computer_option:\n",
    "        print(\"Draw\")\n",
    "\n",
    "    elif user_option == \"rock\":\n",
    "        if computer_option == \"scissors\":\n",
    "            print(\"You Win\")\n",
    "            score+=1\n",
    "        else:\n",
    "            print(\"Computer Wins\")\n",
    "\n",
    "    elif user_option == \"paper\":\n",
    "        if computer_option == \"rock\":\n",
    "            print(\"You Win\")\n",
    "            score+=1\n",
    "        else:\n",
    "            print(\"Computer Wins\")\n",
    "\n",
    "    else:\n",
    "        if computer_option == \"paper\":\n",
    "            print(\"You Win\")\n",
    "            score+=1\n",
    "        else:\n",
    "            print(\"Computer Wins\")\n",
    "\n",
    "    turns += 1\n",
    "    print(\"\\n----------------------------------------------\\n\")"
   ]
  },
  {
   "cell_type": "markdown",
   "metadata": {
    "tags": []
   },
   "source": [
    "### Recap"
   ]
  },
  {
   "cell_type": "markdown",
   "metadata": {
    "tags": []
   },
   "source": [
    "#### Conditions\n",
    "\n",
    "```python\n",
    "if cond1:\n",
    "    # code\n",
    "elif cond2:\n",
    "    # code\n",
    "else:\n",
    "    # code\n",
    "```"
   ]
  },
  {
   "cell_type": "markdown",
   "metadata": {},
   "source": [
    "#### Iterations\n",
    "\n",
    "```python\n",
    "while cond1:\n",
    "    # code\n",
    "    continue #if necessary\n",
    "    # more code\n",
    "    # update variable or\n",
    "    break\n",
    "    # more code\n",
    "    \n",
    "for item in collection:\n",
    "    # code\n",
    "    continue #if neccessary\n",
    "    # more code\n",
    "    break #if necessary\n",
    "    # more code\n",
    "```"
   ]
  },
  {
   "cell_type": "markdown",
   "metadata": {},
   "source": [
    "#### list\n",
    "\n",
    "```python\n",
    "\n",
    "list1 = [item1,item2,item3,itemn]\n",
    "\n",
    "list1[index] # return value at index\n",
    "```\n",
    "\n",
    "Explore list methods"
   ]
  },
  {
   "cell_type": "markdown",
   "metadata": {},
   "source": [
    "#### Get Input\n",
    "\n",
    "```python\n",
    "str1 = input(\"Enter str\")\n",
    "int1 = int(input(\"Enter int\"))\n",
    "float1 = float(input(\"Enter float\"))\n",
    "```"
   ]
  },
  {
   "cell_type": "markdown",
   "metadata": {},
   "source": [
    "#### random\n",
    "\n",
    "```python\n",
    "import random\n",
    "\n",
    "random_selection = random.choice(collection)\n",
    "```\n",
    "\n",
    "*Explore other features available in* random"
   ]
  },
  {
   "cell_type": "markdown",
   "metadata": {},
   "source": [
    "#### time\n",
    "\n",
    "```python\n",
    "time.sleep(seconds)\n",
    "```\n",
    "\n",
    "*Explore other features available in* time"
   ]
  },
  {
   "cell_type": "markdown",
   "metadata": {},
   "source": [
    "#### string\n",
    "\n",
    "```python\n",
    "f\"Include {variable} in the string\"\n",
    "str1 = \"UPPER\"\n",
    "str1.lower() #returns \"upper\"\n",
    "```"
   ]
  },
  {
   "cell_type": "markdown",
   "metadata": {},
   "source": [
    "### Furthur Improvements\n",
    "\n",
    "1. Try to reduce the number of conditions in the game loop.\n",
    "2. Improve the vizuualizations by dispaying ascii art instead of displaying just the user options.<br>\n",
    "Sample art are provided as lists <br>\n",
    "Hint: *You can add the list to a dictonary with rock, paper and scissors as keys*\n",
    "3. Explore the methods associated to strings, random and time.\n",
    "\n",
    "```python\n",
    "rockpic = []\n",
    "rockpic.append(\"          \")\n",
    "rockpic.append(\"  xxxxxx  \")\n",
    "rockpic.append(\"  xxxxxx  \")\n",
    "rockpic.append(\"  xxxxxx  \")\n",
    "rockpic.append(\"          \")\n",
    "\n",
    "paperpic = []\n",
    "paperpic.append(\"----------\")\n",
    "paperpic.append(\"|--------|\")\n",
    "paperpic.append(\"|--------|\")\n",
    "paperpic.append(\"|--------|\")\n",
    "paperpic.append(\"----------\")\n",
    "\n",
    "scissorpic = []\n",
    "scissorpic.append(\"        _ \")\n",
    "scissorpic.append(\"=====\\\\ | |\")\n",
    "scissorpic.append(\"      x =|\")\n",
    "scissorpic.append(\"=====/ |_|\")\n",
    "scissorpic.append(\"          \")\n",
    "```\n",
    "\n"
   ]
  },
  {
   "cell_type": "code",
   "execution_count": null,
   "metadata": {},
   "outputs": [],
   "source": []
  }
 ],
 "metadata": {
  "kernelspec": {
   "display_name": "Python 3 (ipykernel)",
   "language": "python",
   "name": "python3"
  },
  "language_info": {
   "codemirror_mode": {
    "name": "ipython",
    "version": 3
   },
   "file_extension": ".py",
   "mimetype": "text/x-python",
   "name": "python",
   "nbconvert_exporter": "python",
   "pygments_lexer": "ipython3",
   "version": "3.10.6"
  },
  "vscode": {
   "interpreter": {
    "hash": "2e13e7e847333db2ddfc51a620ee0779f15c9e7f890527b9d9fb1ebf1e2501f1"
   }
  }
 },
 "nbformat": 4,
 "nbformat_minor": 4
}
